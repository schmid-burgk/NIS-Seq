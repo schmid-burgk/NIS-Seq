{
 "cells": [
  {
   "cell_type": "code",
   "execution_count": 1,
   "id": "1307c3c4-dffb-4c1c-8812-2c7043cec02a",
   "metadata": {},
   "outputs": [],
   "source": [
    "import pandas as pd\n",
    "from scipy.stats import ttest_ind, mannwhitneyu\n",
    "from tqdm import tqdm \n",
    "import numpy as np\n",
    "from statsmodels.stats.multitest import fdrcorrection"
   ]
  },
  {
   "cell_type": "code",
   "execution_count": 2,
   "id": "643f5fc5-7788-4e22-8303-3b9049183552",
   "metadata": {
    "tags": []
   },
   "outputs": [],
   "source": [
    "inp1 = '../HeLa_TNFa_R1.txt'\n",
    "inp2 = '../HeLa_TNFa_R2.txt'\n",
    "\n",
    "# Load data\n",
    "df1 = pd.read_csv(inp1, sep='\\t')\n",
    "df2 = pd.read_csv(inp2, sep='\\t')"
   ]
  },
  {
   "cell_type": "code",
   "execution_count": 3,
   "id": "889fb7d6",
   "metadata": {},
   "outputs": [],
   "source": [
    "# Filter for gfp mean > 300\n",
    "df1 = df1[df1.gfp_norm > 300]\n",
    "df2 = df2[df2.gfp_norm > 300]"
   ]
  },
  {
   "cell_type": "code",
   "execution_count": 4,
   "id": "6ed17627",
   "metadata": {},
   "outputs": [
    {
     "data": {
      "text/plain": [
       "np.float64(-0.1566241260367558)"
      ]
     },
     "execution_count": 4,
     "metadata": {},
     "output_type": "execute_result"
    }
   ],
   "source": [
    "#normalize\n",
    "\n",
    "control1 = df1[df1.gene == 'Non-Targeting Control'].correlation.to_list()\n",
    "control2 = df2[df2.gene == 'Non-Targeting Control'].correlation.to_list()\n",
    "\n",
    "ctl_mean1 = np.mean(control1)\n",
    "ctl_mean2 = np.mean(control2)\n",
    "\n",
    "delta = ctl_mean1-ctl_mean2\n",
    "ratio = ctl_mean1/ctl_mean2\n",
    "\n",
    "df2.correlation = df2.correlation+delta #works better\n",
    "#df2.correlation = df2.correlation*ratio\n",
    "\n",
    "delta"
   ]
  },
  {
   "cell_type": "code",
   "execution_count": 5,
   "id": "17744fbf-a6d7-4306-8205-1eca9b0ea470",
   "metadata": {},
   "outputs": [],
   "source": [
    "# combine screening datasets\n",
    "df = pd.concat([df1,df2])"
   ]
  },
  {
   "cell_type": "code",
   "execution_count": 6,
   "id": "cad60eed",
   "metadata": {},
   "outputs": [
    {
     "name": "stdout",
     "output_type": "stream",
     "text": [
      "43717\n"
     ]
    }
   ],
   "source": [
    "# obtain list of control values:\n",
    "control = df[df.gene == 'Non-Targeting Control'].correlation.to_list()\n",
    "print(len(control))\n",
    "\n",
    "# obtain mean of control values\n",
    "ctl_mean = np.mean(control)"
   ]
  },
  {
   "cell_type": "code",
   "execution_count": 7,
   "id": "5bd3f217",
   "metadata": {},
   "outputs": [
    {
     "name": "stderr",
     "output_type": "stream",
     "text": [
      "100%|████████████████████████████████████| 19112/19112 [01:21<00:00, 235.86it/s]\n"
     ]
    }
   ],
   "source": [
    "res = {}\n",
    "\n",
    "# Group df by genes\n",
    "groupb = df.groupby('gene')\n",
    "\n",
    "# Loop through genes in df\n",
    "for gene in tqdm(df.groupby('gene').groups):\n",
    "    \n",
    "    # Retrieve list of correlations for gene\n",
    "    gen = groupb.get_group(gene).correlation.to_list()\n",
    "    \n",
    "    # Calculate values\n",
    "    # Number of genes\n",
    "    numcells = len(groupb.get_group(gene))\n",
    "    \n",
    "    #if at least 10 cells, perform test and save to list\n",
    "    if numcells > 9:\n",
    "        # Mean\n",
    "        meangenes = np.mean(gen)/ctl_mean\n",
    "    \n",
    "        # Test\n",
    "        #p = ttest_ind(gen, control, equal_var=False)[1]\n",
    "        p = mannwhitneyu(gen, control)[1]\n",
    "        \n",
    "        #save to list\n",
    "        res[gene] = (numcells, meangenes, p)\n",
    "    \n",
    "res = pd.DataFrame(res).T\n",
    "res.columns = ['count', 'fold', 'pvalue']\n",
    "res = res.sort_values(by='pvalue', ascending=False)\n",
    "res['count'] = res['count'].astype(int)"
   ]
  },
  {
   "cell_type": "code",
   "execution_count": 8,
   "id": "11ced15e",
   "metadata": {},
   "outputs": [],
   "source": [
    "#fdr correction:\n",
    "res['pvalue_fdr'] = fdrcorrection(res['pvalue'])[1]"
   ]
  },
  {
   "cell_type": "code",
   "execution_count": 9,
   "id": "df9bc92e-9ef3-4561-ab76-48a793dee494",
   "metadata": {},
   "outputs": [
    {
     "name": "stderr",
     "output_type": "stream",
     "text": [
      "/var/folders/pm/q5s404rn7176d1t3n62cvbbw0000gn/T/ipykernel_66114/1966098857.py:6: FutureWarning: Starting with pandas version 3.0 all arguments of to_csv except for the argument 'path_or_buf' will be keyword-only.\n",
      "  res.to_csv('screening_results_HeLa_TNFa.tsv', '\\t')\n"
     ]
    }
   ],
   "source": [
    "# Create log values for p values\n",
    "res['pvalue_-log10'] = -res['pvalue'].apply(np.log10)\n",
    "res['pvalue_fdr_-log10'] = -res['pvalue_fdr'].apply(np.log10)\n",
    "\n",
    "# Save as tsv\n",
    "res.to_csv('screening_results_HeLa_TNFa.tsv', '\\t')"
   ]
  },
  {
   "cell_type": "code",
   "execution_count": null,
   "id": "a234e1d8",
   "metadata": {},
   "outputs": [],
   "source": []
  }
 ],
 "metadata": {
  "kernelspec": {
   "display_name": "Python 3 (ipykernel)",
   "language": "python",
   "name": "python3"
  },
  "language_info": {
   "codemirror_mode": {
    "name": "ipython",
    "version": 3
   },
   "file_extension": ".py",
   "mimetype": "text/x-python",
   "name": "python",
   "nbconvert_exporter": "python",
   "pygments_lexer": "ipython3",
   "version": "3.9.9"
  }
 },
 "nbformat": 4,
 "nbformat_minor": 5
}
