{
 "cells": [
  {
   "cell_type": "code",
   "execution_count": 1,
   "id": "1307c3c4-dffb-4c1c-8812-2c7043cec02a",
   "metadata": {},
   "outputs": [],
   "source": [
    "import pandas as pd\n",
    "from scipy.stats import ttest_ind, mannwhitneyu\n",
    "from tqdm import tqdm \n",
    "import numpy as np\n",
    "from statsmodels.stats.multitest import fdrcorrection\n",
    "from scipy.stats import normaltest"
   ]
  },
  {
   "cell_type": "code",
   "execution_count": 2,
   "id": "643f5fc5-7788-4e22-8303-3b9049183552",
   "metadata": {
    "tags": []
   },
   "outputs": [],
   "source": [
    "inp1 = '../THP1_PrgI-PA_R1a.txt'\n",
    "inp2 = '../THP1_PrgI-PA_R1b.txt'\n",
    "inp3 = '../THP1_PrgI-PA_R2a.txt'\n",
    "inp4 = '../THP1_PrgI-PA_R2b.txt'\n",
    "\n",
    "# Load data\n",
    "df1 = pd.read_csv(inp1, sep='\\t')\n",
    "df2 = pd.read_csv(inp2, sep='\\t')\n",
    "df3 = pd.read_csv(inp3, sep='\\t')\n",
    "df4 = pd.read_csv(inp4, sep='\\t')"
   ]
  },
  {
   "cell_type": "code",
   "execution_count": 3,
   "id": "bbc3270f",
   "metadata": {},
   "outputs": [],
   "source": [
    "# Filter for gfp mean > 30\n",
    "df1 = df1[df1.gfp_norm > 30]\n",
    "df2 = df2[df2.gfp_norm > 30]\n",
    "df3 = df3[df3.gfp_norm > 30]\n",
    "df4 = df4[df4.gfp_norm > 30]"
   ]
  },
  {
   "cell_type": "code",
   "execution_count": 4,
   "id": "0ff3a3f7",
   "metadata": {},
   "outputs": [],
   "source": [
    "#normalize\n",
    "\n",
    "control1 = df1[df1.gene == 'Non-Targeting Control'].ratio.to_list()\n",
    "control2 = df2[df2.gene == 'Non-Targeting Control'].ratio.to_list()\n",
    "control3 = df3[df3.gene == 'Non-Targeting Control'].ratio.to_list()\n",
    "control4 = df4[df4.gene == 'Non-Targeting Control'].ratio.to_list()\n",
    "\n",
    "ctl_mean1 = np.mean(control1)\n",
    "ctl_mean2 = np.mean(control2)\n",
    "ctl_mean3 = np.mean(control3)\n",
    "ctl_mean4 = np.mean(control4)\n",
    "\n",
    "delta2 = ctl_mean1-ctl_mean2\n",
    "delta3 = ctl_mean1-ctl_mean3\n",
    "delta4 = ctl_mean1-ctl_mean4\n",
    "\n",
    "df2.ratio = df2.ratio+delta2\n",
    "df3.ratio = df3.ratio+delta3\n",
    "df4.ratio = df4.ratio+delta4"
   ]
  },
  {
   "cell_type": "code",
   "execution_count": 5,
   "id": "17744fbf-a6d7-4306-8205-1eca9b0ea470",
   "metadata": {},
   "outputs": [],
   "source": [
    "# combine screening datasets\n",
    "df = pd.concat([df1,df2,df3,df4])"
   ]
  },
  {
   "cell_type": "code",
   "execution_count": 6,
   "id": "b0315ff9",
   "metadata": {},
   "outputs": [],
   "source": [
    "# obtain list of control values\n",
    "control = df[df.gene == 'Non-Targeting Control'].ratio.to_list()\n",
    "\n",
    "# obtain mean of control values\n",
    "ctl_mean = np.mean(control)"
   ]
  },
  {
   "cell_type": "code",
   "execution_count": 7,
   "id": "c12de2b6",
   "metadata": {},
   "outputs": [
    {
     "name": "stderr",
     "output_type": "stream",
     "text": [
      "100%|████████████████████████████████████| 18982/18982 [00:47<00:00, 397.39it/s]\n"
     ]
    }
   ],
   "source": [
    "res = {}\n",
    "\n",
    "# Group df by genes\n",
    "groupb = df.groupby('gene')\n",
    "\n",
    "# Loop through genes in df\n",
    "for gene in tqdm(df.groupby('gene').groups):\n",
    "    \n",
    "    # Retrieve list of ratios for gene\n",
    "    gen = groupb.get_group(gene).ratio.to_list()\n",
    "    \n",
    "    # Number of cells\n",
    "    numcells = len(groupb.get_group(gene))\n",
    "    \n",
    "    #if at least 3 cells, perform test and save to list\n",
    "    if numcells > 9:\n",
    "        # Mean\n",
    "        meangenes = np.mean(gen)/ctl_mean\n",
    "    \n",
    "        # Test\n",
    "        #p = ttest_ind(gen, control, equal_var=False)[1]\n",
    "        p = mannwhitneyu(gen, control)[1]\n",
    "        \n",
    "        #save to list\n",
    "        res[gene] = (numcells, meangenes, p)\n",
    "    \n",
    "res = pd.DataFrame(res).T\n",
    "res.columns = ['count', 'fold', 'pvalue']\n",
    "res = res.sort_values(by='pvalue', ascending=False)\n",
    "res['count'] = res['count'].astype(int)"
   ]
  },
  {
   "cell_type": "code",
   "execution_count": 8,
   "id": "4f53a647",
   "metadata": {},
   "outputs": [],
   "source": [
    "#fdr correction:\n",
    "res['pvalue_fdr'] = fdrcorrection(res['pvalue'])[1]"
   ]
  },
  {
   "cell_type": "code",
   "execution_count": 11,
   "id": "df9bc92e-9ef3-4561-ab76-48a793dee494",
   "metadata": {},
   "outputs": [
    {
     "name": "stderr",
     "output_type": "stream",
     "text": [
      "/var/folders/pm/q5s404rn7176d1t3n62cvbbw0000gn/T/ipykernel_66182/1268559953.py:6: FutureWarning: Starting with pandas version 3.0 all arguments of to_csv except for the argument 'path_or_buf' will be keyword-only.\n",
      "  res.to_csv('screening_results_THP1_PrgI-PA.tsv', '\\t')\n"
     ]
    }
   ],
   "source": [
    "# Create log values for p values\n",
    "res['pvalue_-log10'] = -res['pvalue'].apply(np.log10)\n",
    "res['pvalue_fdr_-log10'] = -res['pvalue_fdr'].apply(np.log10)\n",
    "\n",
    "# Save as tsv\n",
    "res.to_csv('screening_results_THP1_PrgI-PA.tsv', '\\t')"
   ]
  },
  {
   "cell_type": "code",
   "execution_count": null,
   "id": "391ed9db",
   "metadata": {},
   "outputs": [],
   "source": []
  }
 ],
 "metadata": {
  "kernelspec": {
   "display_name": "Python 3 (ipykernel)",
   "language": "python",
   "name": "python3"
  },
  "language_info": {
   "codemirror_mode": {
    "name": "ipython",
    "version": 3
   },
   "file_extension": ".py",
   "mimetype": "text/x-python",
   "name": "python",
   "nbconvert_exporter": "python",
   "pygments_lexer": "ipython3",
   "version": "3.9.9"
  }
 },
 "nbformat": 4,
 "nbformat_minor": 5
}
