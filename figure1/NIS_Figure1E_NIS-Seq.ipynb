{
 "cells": [
  {
   "cell_type": "markdown",
   "id": "667ed3d1-4d80-4060-abd6-d24955859413",
   "metadata": {
    "tags": []
   },
   "source": [
    "### Script to analyze NIS-Seq data for Figure 1E\n",
    "\n",
    "---\n",
    "\n",
    "The goal of this script is to compare the percentage of dictionary-matching nuclei sequenced by *NIS-Seq* or [*in-situ sequencing*](https://www.ncbi.nlm.nih.gov/pmc/articles/PMC6886477/). \n",
    "\n",
    "\n",
    "The input files for this script were generated using the web-based [*NIS-Seq image analysis suite*](https://jsb-lab.bio/opticalscreening/) and consist of the follwing files for each celltype:\n",
    "\n",
    "\n",
    "1. **CellType_NuclearIntensities_normal.txt**\n",
    "* *tile*: Tile number, according to order of files loaded; counting from 0\n",
    "* *nucleus*: Number of the nucleus in that tile, as defined by the masks loaded. Cellpose masks start counting at 1.\n",
    "* *intensity*: For each nucleus, the maximum intensity over all cycles and channels is indicated; intensity is calculated as the integrated pixel intensity across nuclear masks.\n",
    "    \n",
    "    \n",
    "2. **CellType_NuclearIntensities_scrambled.txt**\n",
    "* *tile*: Tile number, according to order of files loaded; counting from 0\n",
    "* *nucleus*: Number of the nucleus in that tile, as defined by the masks loaded. Cellpose masks start counting at 1.\n",
    "* *intensity*: For each nucleus, the maximum intensity over all cycles and channels is indicated; intensity is calculated as the integrated pixel intensity across nuclear masks.\n",
    "    \n",
    "    \n",
    "3. **CellType_NuclearSequences_normal.txt**\n",
    "* *tile*: Tile number, according to order of files loaded; counting from 0\n",
    "* *nucleus*: Number of the nucleus in that tile, as defined by the masks loaded. Cellpose masks start counting at 1.\n",
    "* *x*: Pixel-wise center position of each nuclear mask in the first cycle.\n",
    "* *y*: Pixel-wise center position of each nuclear mask in the first cycle.\n",
    "* *sequence*: Library-matched consensus sequence detected in a nucleus.\n",
    "* *max_intensity*: For each nucleus, the maximum intensity over all cycles and channels is indicated; intensity is calculated as the integrated pixel intensity across nuclear \n",
    "        \n",
    "    \n",
    "4. **CellType_NuclearSequences_scrambled.txt**\n",
    "* *tile*: Tile number, according to order of files loaded; counting from 0\n",
    "* *nucleus*: Number of the nucleus in that tile, as defined by the masks loaded. Cellpose masks start counting at 1.\n",
    "* *x*: Pixel-wise center position of each nuclear mask in the first cycle.\n",
    "* *y*: Pixel-wise center position of each nuclear mask in the first cycle.\n",
    "* *sequence*: Library-matched consensus sequence detected in a nucleus.\n",
    "* *max_intensity*: For each nucleus, the maximum intensity over all cycles and channels is indicated; intensity is calculated as the integrated pixel intensity across nuclear \n",
    "    \n",
    "---"
   ]
  },
  {
   "cell_type": "code",
   "execution_count": 1,
   "id": "5c039adb-ec01-4e43-b938-fcd36add1027",
   "metadata": {},
   "outputs": [],
   "source": [
    "import pandas as pd\n",
    "import os\n",
    "import numpy as np\n",
    "from tqdm import tqdm"
   ]
  },
  {
   "cell_type": "code",
   "execution_count": 2,
   "id": "68700905-910c-48b1-8d50-a0719457cef6",
   "metadata": {},
   "outputs": [],
   "source": [
    "# Derive celltypes from file names\n",
    "\n",
    "data_location = 'NIS-Seq_data/'\n",
    "celltypes = set([x.split('_')[0] for x in os.listdir(data_location) if x[0] != '.'])"
   ]
  },
  {
   "cell_type": "code",
   "execution_count": 3,
   "id": "252ea4c3",
   "metadata": {},
   "outputs": [],
   "source": [
    "# Count total vs. sequenced nuclei per tile\n",
    "\n",
    "tile_num = 196\n",
    "tile_counts = {'normal': pd.DataFrame(), 'scrambled': pd.DataFrame()}\n",
    "\n",
    "# Iterate through celltypes\n",
    "for celltype in celltypes:\n",
    "    \n",
    "    # Load normal NIS-Seq results\n",
    "    nucs = pd.read_csv(data_location + f'{celltype}_NuclearIntensities_normal.txt', sep = '\\t')\n",
    "    seqs = pd.read_csv(data_location + f'{celltype}_NuclearSequences_normal.txt', sep = '\\t')\n",
    "    \n",
    "    # Load scrambled NIS-Seq results\n",
    "    nucs_sc = pd.read_csv(data_location + f'{celltype}_NuclearIntensities_scrambled.txt', sep = '\\t')\n",
    "    seqs_sc = pd.read_csv(data_location + f'{celltype}_NuclearSequences_scrambled.txt', sep = '\\t')\n",
    "    \n",
    "    # Count total vs. sequenced nuclei in each tile\n",
    "    tile_counts['normal'] = pd.concat([tile_counts['normal'], pd.DataFrame([(celltype, (nucs.tile == tile).sum(), (seqs.tile == tile).sum()) for tile in range(0,tile_num)])])\n",
    "    \n",
    "    # Count total vs. sequenced nuclei in each tile\n",
    "    tile_counts['scrambled'] = pd.concat([tile_counts['scrambled'], pd.DataFrame([(celltype, (nucs_sc.tile == tile).sum(), (seqs_sc.tile == tile).sum()) for tile in range(0,tile_num)])])\n",
    "\n",
    "# Rename columns\n",
    "tile_counts['normal'] = tile_counts['normal'].rename({0: 'celltype', 1: 'nucs', 2: 'seqs'}, axis=1)\n",
    "tile_counts['scrambled'] = tile_counts['scrambled'].rename({0: 'celltype', 1: 'nucs', 2: 'seqs'}, axis=1)"
   ]
  },
  {
   "cell_type": "code",
   "execution_count": 4,
   "id": "f75e5d9f",
   "metadata": {},
   "outputs": [],
   "source": [
    "# Check example\n",
    "\n",
    "#tile_counts['normal'].query(f'celltype==\"HeLa\"').to_csv('Fig1E_HeLa_tiles.tsv', sep='\\t')"
   ]
  },
  {
   "cell_type": "code",
   "execution_count": 5,
   "id": "7bd4a371",
   "metadata": {
    "scrolled": true
   },
   "outputs": [],
   "source": [
    "# Split the imaged area (=tiles) into two halves\n",
    "\n",
    "dic = {'normal': {}, 'scrambled': {}}\n",
    "\n",
    "for scrambled in ['normal', 'scrambled']:\n",
    "    for celltype in celltypes:\n",
    "        \n",
    "        df_ = tile_counts[scrambled].query(f'celltype==\"{celltype}\"')\n",
    "        total_r1 = df_.iloc[:(tile_num//2)].nucs.sum()\n",
    "        total_r2 = df_.iloc[(tile_num//2):].nucs.sum()\n",
    "        sequenced_r1 = df_.iloc[:(tile_num//2)].seqs.sum()\n",
    "        sequenced_r2 = df_.iloc[(tile_num//2):].seqs.sum()\n",
    "        #print(scrambled,celltype,total_r1,sequenced_r1,total_r2,sequenced_r2)\n",
    "\n",
    "        percent_mapped_r1 = sequenced_r1 / total_r1 * 100\n",
    "        percent_mapped_r2 = sequenced_r2 / total_r2 * 100\n",
    "        #print(scrambled,celltype,percent_mapped_r1,percent_mapped_r2)\n",
    "\n",
    "        dic[scrambled][celltype] = (percent_mapped_r1, percent_mapped_r2)"
   ]
  },
  {
   "cell_type": "code",
   "execution_count": 6,
   "id": "6aae3cb5-59af-4319-9e22-be59d5317edc",
   "metadata": {},
   "outputs": [],
   "source": [
    "# Reformat table and save\n",
    "\n",
    "df = pd.DataFrame(dic['normal']).T.rename({0: 'normal', 1: 'normal'}, axis=1)\n",
    "df['0'] = pd.DataFrame(dic['scrambled']).T[0]\n",
    "df['1'] = pd.DataFrame(dic['scrambled']).T[1]\n",
    "df = df.rename({'0': 'scrambled', '1': 'scrambled'}, axis=1)\n",
    "df.to_csv('Fig1E_NIS-Seq.tsv', sep='\\t')"
   ]
  },
  {
   "cell_type": "code",
   "execution_count": null,
   "id": "8748435a",
   "metadata": {},
   "outputs": [],
   "source": []
  }
 ],
 "metadata": {
  "kernelspec": {
   "display_name": "Python 3 (ipykernel)",
   "language": "python",
   "name": "python3"
  },
  "language_info": {
   "codemirror_mode": {
    "name": "ipython",
    "version": 3
   },
   "file_extension": ".py",
   "mimetype": "text/x-python",
   "name": "python",
   "nbconvert_exporter": "python",
   "pygments_lexer": "ipython3",
   "version": "3.9.9"
  }
 },
 "nbformat": 4,
 "nbformat_minor": 5
}
