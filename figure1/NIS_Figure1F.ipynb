{
 "cells": [
  {
   "cell_type": "code",
   "execution_count": 1,
   "id": "cd765ea8-9a68-4e99-83e0-1d3d2da838d2",
   "metadata": {},
   "outputs": [],
   "source": [
    "import pandas as pd\n",
    "import warnings\n",
    "warnings.filterwarnings('ignore')"
   ]
  },
  {
   "cell_type": "code",
   "execution_count": 2,
   "id": "516f845f",
   "metadata": {},
   "outputs": [],
   "source": [
    "results = {'condition' : [],\n",
    "           'cell_number' : [],\n",
    "           'cells_sequenced' : [],\n",
    "           'sensitivity':[],\n",
    "           'specificity':[]\n",
    "          }\n",
    "\n",
    "for scrambled in ['normal', 'scrambled']:\n",
    "    for condition in ['PFA', 'methanol']:\n",
    "    \n",
    "        # Load data from files:\n",
    "        NIS_nuclei = pd.read_csv(f'data_1F/{condition}_{scrambled}_NuclearIntensities.txt', sep = '\\t')\n",
    "        NIS_nuclei_seq = pd.read_csv(f'data_1F/{condition}_{scrambled}_NuclearSequences.txt', sep = '\\t')\n",
    "        NIS_pheno_assignment = pd.read_csv(f'data_1F/{condition}_CellAssignments.txt', sep = '\\t')\n",
    "        pheno = pd.read_csv(f'data_1F/{condition}_Phenotypes.txt', sep = '\\t')\n",
    "    \n",
    "        # Merge phenotyped cells to NIS_pheno_assignment, keep also non-assinged cells:\n",
    "        cells = pheno.merge(NIS_pheno_assignment, how = 'left', left_on = ['pheno_tile','pheno_cell'], right_on = ['pheno_tile','pheno_cell'])\n",
    "\n",
    "        # Merge to NIS_nuclei, should all be matching:\n",
    "        cells = cells.merge(NIS_nuclei, how = 'left', left_on = ['NIS_tile','NIS_nucleus'], right_on = ['tile','nucleus'])\n",
    "\n",
    "        # Merge to NIS_nuclei_seq, keep also non-sequenced cells:\n",
    "        cells = cells.merge(NIS_nuclei_seq, how = 'left', left_on = ['tile','nucleus'], right_on = ['tile','nucleus'])\n",
    "\n",
    "        # Drop duplicate phenotype cells:\n",
    "        cells = cells.drop_duplicates(['pheno_tile', 'pheno_cell'])\n",
    "        \n",
    "        # Remove cells with no nucleus / low nucleus signal\n",
    "        cells = cells[cells.nuc_norm > 125].reset_index(drop=True)\n",
    "        \n",
    "        # Gate cells into GFP positive vs GFP negative cells based on linear function\n",
    "        def gfp_gate(gfp, hoechst):\n",
    "            return 1.67 * gfp -166.67 < hoechst\n",
    "        cells['gfp_neg'] = [gfp_gate(x, y) for x, y in zip(cells.gfp_norm, cells.nuc_norm)]\n",
    "\n",
    "        # Split imaging area in two halves\n",
    "        for cells_ in [cells[cells.pheno_tile < 98], cells[cells.pheno_tile >= 98]]:\n",
    "\n",
    "            cell_number = len(cells_)\n",
    "            cells_sequenced = len(cells_[~cells_.sequence.isna()])\n",
    "            cells_TP = len(cells_[~cells_.sequence.isna()][cells_.gfp_neg])  # true positive = seq defined, gfp negative\n",
    "            cells_FN = len(cells_[cells_.sequence.isna()][cells_.gfp_neg])   # false negtive = seq undefined, gfp negative\n",
    "            cells_TN = len(cells_[cells_.sequence.isna()][~cells_.gfp_neg])  # true negative = seq undefined, gfp positive\n",
    "            cells_FP = len(cells_[~cells_.sequence.isna()][~cells_.gfp_neg]) # false positive= seq defined, gfp positive\n",
    "    \n",
    "            results['condition'].append(f'{condition}_{scrambled}')\n",
    "            results['cell_number'].append(cell_number)\n",
    "            results['cells_sequenced'].append(cells_sequenced)\n",
    "            results['sensitivity'].append(cells_TP/(cells_TP + cells_FN)*100)\n",
    "            results['specificity'].append(cells_TN/(cells_TN + cells_FP)*100)\n",
    "            \n",
    "# Save results to file\n",
    "df = pd.DataFrame(results)\n",
    "df.to_csv('Fig1F_results.tsv', sep='\\t')"
   ]
  },
  {
   "cell_type": "code",
   "execution_count": 45,
   "id": "74c89485",
   "metadata": {},
   "outputs": [],
   "source": []
  }
 ],
 "metadata": {
  "kernelspec": {
   "display_name": "Python 3 (ipykernel)",
   "language": "python",
   "name": "python3"
  },
  "language_info": {
   "codemirror_mode": {
    "name": "ipython",
    "version": 3
   },
   "file_extension": ".py",
   "mimetype": "text/x-python",
   "name": "python",
   "nbconvert_exporter": "python",
   "pygments_lexer": "ipython3",
   "version": "3.9.9"
  }
 },
 "nbformat": 4,
 "nbformat_minor": 5
}
