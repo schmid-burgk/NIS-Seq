{
 "cells": [
  {
   "cell_type": "markdown",
   "id": "50a1e5a5-13d7-4bda-a3a4-91e294ac31c6",
   "metadata": {},
   "source": [
    "### NIS-Seq, Figure 1F written by AH and PK\n",
    "\n",
    "---\n",
    "\n",
    "This script generates figure 1F in [*Cell Type-Agnostic Optical Perturbation Screening Using Nuclear In-Situ Sequencing (NIS-Seq)*](https://www.biorxiv.org/content/10.1101/2024.01.18.576210v1). The goal is to compare PFA fixation and methanol fixation by calculating Sensitivity and Specificity values in an experimental setup where we add GFP positive cells to our genome wide knockout NIS cells containting barcodes and try to distinguish them from each other. \n",
    "\n",
    "\n",
    "The inputs for this script were generated with [*JSB ImageFiend*](https://jsb-lab.bio/opticalscreening/AnalyzeInSituCombined_v1.htm) and consist of the follwing files for each celltype:\n",
    "    \n",
    "1. **ExperimentName_NuclearSequences.txt**\n",
    "    * columns: tile number, nucleus id, x and y coordinates, barcode sequence, maximal intensity\n",
    "        * *tile*: Tile number, according to order of files loaded; counting from 0\n",
    "        * *nucleus*: Number of the nucleus in that tile, as defined by the masks loaded. Cellpose masks start counting at 1.\n",
    "        * *x*: Pixel-wise center position of each nuclear mask in the first cycle.\n",
    "        * *y*: Pixel-wise center position of each nuclear mask in the first cycle.\n",
    "        * *sequence*: Library-matched consensus sequence detected in a nucleus.\n",
    "        * *max_intensity*: For each nucleus, the maximum intensity over all cycles and channels is indicated; intensity is calculated as the integrated pixel intensity across nuclear \n",
    "    \n",
    "2. **ExperimentName_CellAssignments.txt**\n",
    "    * columns: in-situ_tile, situ_nucleus, in-situ, in-situ_nucleus_x, in-situ_nucleus_y, in-situ_nucleus_area, phenotype_tile, phenotype_cell, phenotype_nucleus_x, phenotype_nucleus_y, phenotype_nucleus_area\n",
    "        * *in-situ_tile*: Tile number, according to order of files loaded; counting from 0\n",
    "        * *in-situ_nucleus*: Number of the nucleus in that tile, as defined by the masks loaded. Cellpose masks start counting at 1\n",
    "        * *in-situ_nucleus_x*: Pixel-wise center position of each nuclear mask in the first cycle\n",
    "        * *in-situ_nucleus_y*: Pixel-wise center position of each nuclear mask in the first cycle\n",
    "        * *in-situ_nucleus_area*: Pixel-wise area of each nuclear mask in the first cycle\n",
    "        * *phenotype_tile*: Tile number, according to order of files loaded; counting from 0\n",
    "        * *phenotype_cell*: Number of the membrane mask in that tile, as defined by the masks loaded. Cellpose masks start counting at 1\n",
    "        * *phenotype_nucleus_x*: Pixel-wise center position of each nuclear mask\n",
    "        * *phenotype_nucleus_y*: Pixel-wise center position of each nuclear mask\n",
    "        * *phenotype_nucleus_area*: Pixel-wise area of each nuclear mask in the phenotype data\n",
    "    \n",
    "The optical pooled screening analysis pipeline can be installed from [*Here*](https://github.com/feldman4/OpticalPooledScreens_2019).\n",
    "\n",
    "---"
   ]
  },
  {
   "cell_type": "code",
   "execution_count": null,
   "id": "cd765ea8-9a68-4e99-83e0-1d3d2da838d2",
   "metadata": {},
   "outputs": [],
   "source": [
    "import warnings\n",
    "warnings.filterwarnings('ignore')\n",
    "\n",
    "import pandas as pd\n",
    "import os\n",
    "import numpy as np\n",
    "from PIL import Image\n",
    "from tqdm import tqdm\n",
    "\n",
    "# Plot generation\n",
    "import seaborn as sns\n",
    "import matplotlib.pyplot as plt"
   ]
  },
  {
   "cell_type": "markdown",
   "id": "578e1dfd-c7f5-4153-bcd7-5550251e097a",
   "metadata": {},
   "source": [
    "### Load data and create output folders"
   ]
  },
  {
   "cell_type": "code",
   "execution_count": null,
   "id": "6d0b23cc-f79c-4725-8667-a4d6c1db92f0",
   "metadata": {},
   "outputs": [],
   "source": [
    "# Data directory for all generated data\n",
    "base = './data/figF/'\n",
    "\n",
    "methanol_path = '/home/jsblab/data1/JSB_P47/phenotype/C9/'\n",
    "PFA_path = '/home/jsblab/data2/P45_PFA_decrosslinking/P45_live/'\n",
    "\n",
    "\n",
    "paths_total = []\n",
    "\n",
    "# Generate a dataframe with all image paths, the cellpose masks were generated on the membrane mask\n",
    "for path in [methanol_path, PFA_path]:\n",
    "    \n",
    "    paths = pd.DataFrame({y: sorted([path+x for x in os.listdir(path) if z in x]) for y, z in zip(['path_02', 'path_03', 'path_06'], ['2.tif', '3.tif', '6.tif'])})\n",
    "    paths['cellpose'] = sorted([f'{path}masks/{i}' for i in os.listdir(path + 'masks/') if '6.tif' in i])\n",
    "    paths_total.append(paths)\n"
   ]
  },
  {
   "cell_type": "markdown",
   "id": "029d694e-0311-413a-9355-204b352a81c9",
   "metadata": {},
   "source": [
    "### Phenotype analysis"
   ]
  },
  {
   "cell_type": "code",
   "execution_count": null,
   "id": "ef9869c2-77de-4ab2-bc8b-1060f6388da3",
   "metadata": {},
   "outputs": [],
   "source": [
    "def gate(x, y):\n",
    "    return 1.6666666666666667 * x -166.66666666666674 < y"
   ]
  },
  {
   "cell_type": "code",
   "execution_count": null,
   "id": "e3cb6f47-ba3d-4ea0-8003-62d673de372b",
   "metadata": {},
   "outputs": [],
   "source": [
    "# Load individual images and calculate GFP mean, GFP sum, hoechst mean, hoechst sum for each cell\n",
    "\n",
    "for fixation, path in zip(['methanol', 'PFA'], paths_total):\n",
    "    \n",
    "    df = pd.DataFrame()\n",
    "    for ind, (nucleus_path, gfp_path, membrane_path, cellpose) in tqdm(path.iterrows()):\n",
    "\n",
    "        membrane = np.asarray(Image.open(membrane_path))\n",
    "        hoechst = np.asarray(Image.open(nucleus_path))\n",
    "        cellmask = np.asarray(Image.open(cellpose))\n",
    "        gfp = np.asarray(Image.open(gfp_path))\n",
    "\n",
    "        pos = np.where(cellmask != 0)\n",
    "        cellid = cellmask[tuple(pos)]\n",
    "\n",
    "        count = np.bincount(cellid)[1:]\n",
    "        gfp_sums = np.bincount(cellid, gfp[tuple(pos)])[1:]\n",
    "        hoe_sums = np.bincount(cellid, hoechst[tuple(pos)])[1:]\n",
    "\n",
    "        df = pd.concat([df, pd.DataFrame({'well': [gfp_path.split('_')[-4] for x in range(len(gfp_sums))], 'tile': [gfp_path.split('_')[-2] for x in range(len(gfp_sums))], 'pheno_tile': [int(gfp_path.split('_')[-2][4:])-1 for x in range(len(gfp_sums))], 'cell_no': np.unique(cellid), 'gfp_sums': gfp_sums, 'gfp_mean': gfp_sums/count, 'hoechst_sums': hoe_sums, 'hoechst_mean': hoe_sums/count})])\n",
    "\n",
    "    df.pheno_tile = df.pheno_tile.astype(int)\n",
    "    df.to_csv(base + f'{fixation}_pheno_data.csv', sep='\\t', header = True, index = None)"
   ]
  },
  {
   "cell_type": "markdown",
   "id": "6b7cebdc-2a5c-4a83-aa87-8dc5a3e5c16b",
   "metadata": {},
   "source": [
    "### Merge phenotype with in situ cell assignment from JSB tools"
   ]
  },
  {
   "cell_type": "code",
   "execution_count": null,
   "id": "023b7574-2d09-4420-a846-78682fc54f31",
   "metadata": {},
   "outputs": [],
   "source": [
    "# Filter phenotype for well\n",
    "dfres = pd.DataFrame()\n",
    "\n",
    "for cond in ['PFA_normal', 'methanol_normal', 'PFA_scrambled', 'methanol_scrambled']:\n",
    "                        \n",
    "    sp_dic = {'cond':[],\n",
    "              'cell_number' : [],\n",
    "              'cells_mapped' : [],\n",
    "              'sens':[],\n",
    "              'spec':[]\n",
    "             }\n",
    "    \n",
    "    fixation = cond.split('_')[0]\n",
    "    pheno_ = pd.read_csv(base + f'{fixation}_pheno_data.csv', '\\t')\n",
    "    \n",
    "    # Load corresponding Cell assignments and NIS barcodes\n",
    "    ass = pd.read_csv(f'data/{fixation}_CellAssignments.txt', sep = '\\t')[['pheno_tile', 'cell.1', 'in-situ_tile', 'cell']]\n",
    "    seq = pd.read_csv(f'data/{cond}_NuclearSequences.txt', sep = '\\t')\n",
    "\n",
    "\n",
    "    # Merge phenotype table and cell assignments and NIS barcodes\n",
    "    merged = pheno_.merge(ass, how = 'left', left_on = ['pheno_tile','cell_no'], right_on=['pheno_tile','cell.1'])\n",
    "    merged_seq = merged.merge(seq, how = 'left', left_on = ['in-situ_tile','cell'], right_on = ['tile','nucleus'])\n",
    "    merged_seq = merged_seq.drop_duplicates(['tile_x', 'cell_no'])\n",
    "\n",
    "    # Kill cells with no nucleus / low nucleus signal\n",
    "    final_cells = merged_seq[merged_seq.hoechst_mean > 125].reset_index(drop=True)\n",
    "\n",
    "    # Gate cells into GFP positive vs GFP negative cells based on linear function\n",
    "    final_cells['gfp_neg'] = [gate(x, y) for x, y in zip(final_cells.gfp_mean, final_cells.hoechst_mean)]\n",
    "\n",
    "    # calculate sensitivity and specificity for each phenotype tile by counting GFP neg vs pos and NIS bc vs no bc cells \n",
    "    for merged_ in [final_cells[final_cells.pheno_tile < 98], final_cells[final_cells.pheno_tile >= 98]]:\n",
    "\n",
    "        sp_dic['cond'].append(cond)\n",
    "        sp_dic['cell_number'].append(len(merged_))\n",
    "        sp_dic['cells_mapped'].append(len(merged_[~merged_.sequence.isna()]))\n",
    "        sp_dic['sens'].append(len(merged_[~merged_.sequence.isna()][merged_.gfp_neg])/(len(merged_[~merged_.sequence.isna()][merged_.gfp_neg]) + len(merged_[merged_.sequence.isna()][merged_.gfp_neg]))*100)\n",
    "        sp_dic['spec'].append(len(merged_[merged_.sequence.isna()][~merged_.gfp_neg])/(len(merged_[merged_.sequence.isna()][~merged_.gfp_neg]) + len(merged_[~merged_.sequence.isna()][~merged_.gfp_neg]))*100)\n",
    "\n",
    "    dfres = dfres.append(pd.DataFrame(sp_dic))"
   ]
  },
  {
   "cell_type": "code",
   "execution_count": null,
   "id": "3261fbe3-0cda-4775-a604-f7d567efc236",
   "metadata": {},
   "outputs": [],
   "source": [
    "dfres.to_csv(base + 'final_figF.tsv', '\\t')"
   ]
  },
  {
   "cell_type": "markdown",
   "id": "7ff0870c-4dac-458e-b507-16d8c1f329e1",
   "metadata": {},
   "source": [
    "### Reformat data or final figure"
   ]
  },
  {
   "cell_type": "code",
   "execution_count": null,
   "id": "c3d00cf6-cae7-49ab-ac1c-9636040accfd",
   "metadata": {},
   "outputs": [],
   "source": [
    "res = []\n",
    "for key, val in dfres.iterrows():\n",
    "    res.append(['Specificity', val.spec, val['cond']])\n",
    "    res.append(['Sensitivity', val.sens, val['cond']])\n",
    "df = pd.DataFrame(res)"
   ]
  },
  {
   "cell_type": "markdown",
   "id": "1225dd81-edf2-4a51-bb50-b8f5b0642af7",
   "metadata": {
    "tags": []
   },
   "source": [
    "### Generate final figure"
   ]
  },
  {
   "cell_type": "code",
   "execution_count": null,
   "id": "2fcaf54a-eec9-4bc3-bd2a-647f946e9134",
   "metadata": {},
   "outputs": [],
   "source": [
    "# Final figure F\n",
    "g = sns.catplot(data=df, kind=\"bar\",x=0, y=1, palette=\"dark\", alpha=.6, height=7, aspect=5/10, col=2)\n",
    "g.set_axis_labels('', '%')\n",
    "g.despine(left=True)\n",
    "\n",
    "plt.savefig(f'data/figF/figureF_AH.svg')"
   ]
  }
 ],
 "metadata": {
  "kernelspec": {
   "display_name": "Python 3 (ipykernel)",
   "language": "python",
   "name": "python3"
  },
  "language_info": {
   "codemirror_mode": {
    "name": "ipython",
    "version": 3
   },
   "file_extension": ".py",
   "mimetype": "text/x-python",
   "name": "python",
   "nbconvert_exporter": "python",
   "pygments_lexer": "ipython3",
   "version": "3.8.13"
  }
 },
 "nbformat": 4,
 "nbformat_minor": 5
}
